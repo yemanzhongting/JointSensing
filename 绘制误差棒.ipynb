{
 "cells": [
  {
   "cell_type": "code",
   "execution_count": 1,
   "metadata": {},
   "outputs": [],
   "source": [
    "#1.24-3.24\n",
    "import pandas as pd\n",
    "import time, datetime\n",
    "df=pd.read_csv('nbiot20200927.csv')"
   ]
  },
  {
   "cell_type": "code",
   "execution_count": 2,
   "metadata": {},
   "outputs": [
    {
     "data": {
      "text/html": [
       "<div>\n",
       "<style scoped>\n",
       "    .dataframe tbody tr th:only-of-type {\n",
       "        vertical-align: middle;\n",
       "    }\n",
       "\n",
       "    .dataframe tbody tr th {\n",
       "        vertical-align: top;\n",
       "    }\n",
       "\n",
       "    .dataframe thead th {\n",
       "        text-align: right;\n",
       "    }\n",
       "</style>\n",
       "<table border=\"1\" class=\"dataframe\">\n",
       "  <thead>\n",
       "    <tr style=\"text-align: right;\">\n",
       "      <th></th>\n",
       "      <th>idnbiot_backup</th>\n",
       "      <th>deviceid</th>\n",
       "      <th>dtime</th>\n",
       "      <th>temperature</th>\n",
       "      <th>humidity</th>\n",
       "    </tr>\n",
       "  </thead>\n",
       "  <tbody>\n",
       "    <tr>\n",
       "      <th>0</th>\n",
       "      <td>1</td>\n",
       "      <td>001800383337363418473930</td>\n",
       "      <td>1577675980</td>\n",
       "      <td>10.95</td>\n",
       "      <td>24.54</td>\n",
       "    </tr>\n",
       "    <tr>\n",
       "      <th>1</th>\n",
       "      <td>2</td>\n",
       "      <td>002400373337363416473930</td>\n",
       "      <td>1577675971</td>\n",
       "      <td>8.77</td>\n",
       "      <td>26.94</td>\n",
       "    </tr>\n",
       "    <tr>\n",
       "      <th>2</th>\n",
       "      <td>3</td>\n",
       "      <td>002900393337363416473930</td>\n",
       "      <td>1577673586</td>\n",
       "      <td>9.29</td>\n",
       "      <td>11.33</td>\n",
       "    </tr>\n",
       "    <tr>\n",
       "      <th>3</th>\n",
       "      <td>4</td>\n",
       "      <td>001400263337363417473930</td>\n",
       "      <td>1577674113</td>\n",
       "      <td>8.08</td>\n",
       "      <td>31.10</td>\n",
       "    </tr>\n",
       "    <tr>\n",
       "      <th>4</th>\n",
       "      <td>5</td>\n",
       "      <td>004C00243337363416473930</td>\n",
       "      <td>1577674272</td>\n",
       "      <td>8.97</td>\n",
       "      <td>25.38</td>\n",
       "    </tr>\n",
       "  </tbody>\n",
       "</table>\n",
       "</div>"
      ],
      "text/plain": [
       "   idnbiot_backup                  deviceid       dtime  temperature  humidity\n",
       "0               1  001800383337363418473930  1577675980        10.95     24.54\n",
       "1               2  002400373337363416473930  1577675971         8.77     26.94\n",
       "2               3  002900393337363416473930  1577673586         9.29     11.33\n",
       "3               4  001400263337363417473930  1577674113         8.08     31.10\n",
       "4               5  004C00243337363416473930  1577674272         8.97     25.38"
      ]
     },
     "execution_count": 2,
     "metadata": {},
     "output_type": "execute_result"
    }
   ],
   "source": [
    "df.head()"
   ]
  },
  {
   "cell_type": "code",
   "execution_count": 3,
   "metadata": {},
   "outputs": [
    {
     "data": {
      "image/png": "[encoded data removed]",
      "text/plain": [
       "<Figure size 432x288 with 1 Axes>"
      ]
     },
     "metadata": {},
     "output_type": "display_data"
    }
   ],
   "source": [
    "#-*- coding: utf-8 -*-\n",
    " \n",
    "import matplotlib.pyplot as plt\n",
    "import numpy as np\n",
    "import pandas as pd\n",
    " \n",
    " \n",
    "plt.rcParams['font.sans-serif'] = ['SimHei']\n",
    "plt.rcParams['axes.unicode_minus'] = False\n",
    "%matplotlib inline\n",
    "error = np.random.randn(50)    #定义误差列\n",
    "# print(error)\n",
    "y = pd.Series(np.sin(np.arange(50)))    #取序列值，用于绘制正弦曲线\n",
    "# print(y)\n",
    "y.plot(yerr=error)    #y轴方向绘制误差棒图\n",
    "#plt.errorbar(x=[1, 2, 3, 4], y=[1, 2, 3, 4], yerr=1, fmt='co--')\n",
    "plt.show()"
   ]
  },
  {
   "cell_type": "code",
   "execution_count": null,
   "metadata": {},
   "outputs": [],
   "source": []
  },
  {
   "cell_type": "code",
   "execution_count": 4,
   "metadata": {},
   "outputs": [],
   "source": [
    "#2020/1/24 9:47\n",
    "def trans(timeStamp):\n",
    "    timeArray = time.localtime(timeStamp)\n",
    "    otherStyleTime = time.strftime(\"%Y/%m/%d %H:%M:%S\", timeArray)\n",
    "    return otherStyleTime"
   ]
  },
  {
   "cell_type": "code",
   "execution_count": 5,
   "metadata": {},
   "outputs": [],
   "source": [
    "df['time']=df.apply(lambda x: trans(x['dtime']), axis=1)"
   ]
  },
  {
   "cell_type": "code",
   "execution_count": 6,
   "metadata": {},
   "outputs": [
    {
     "data": {
      "text/html": [
       "<div>\n",
       "<style scoped>\n",
       "    .dataframe tbody tr th:only-of-type {\n",
       "        vertical-align: middle;\n",
       "    }\n",
       "\n",
       "    .dataframe tbody tr th {\n",
       "        vertical-align: top;\n",
       "    }\n",
       "\n",
       "    .dataframe thead th {\n",
       "        text-align: right;\n",
       "    }\n",
       "</style>\n",
       "<table border=\"1\" class=\"dataframe\">\n",
       "  <thead>\n",
       "    <tr style=\"text-align: right;\">\n",
       "      <th></th>\n",
       "      <th>idnbiot_backup</th>\n",
       "      <th>deviceid</th>\n",
       "      <th>dtime</th>\n",
       "      <th>temperature</th>\n",
       "      <th>humidity</th>\n",
       "      <th>time</th>\n",
       "    </tr>\n",
       "  </thead>\n",
       "  <tbody>\n",
       "    <tr>\n",
       "      <th>0</th>\n",
       "      <td>1</td>\n",
       "      <td>001800383337363418473930</td>\n",
       "      <td>1577675980</td>\n",
       "      <td>10.95</td>\n",
       "      <td>24.54</td>\n",
       "      <td>2019/12/30 11:19:40</td>\n",
       "    </tr>\n",
       "    <tr>\n",
       "      <th>1</th>\n",
       "      <td>2</td>\n",
       "      <td>002400373337363416473930</td>\n",
       "      <td>1577675971</td>\n",
       "      <td>8.77</td>\n",
       "      <td>26.94</td>\n",
       "      <td>2019/12/30 11:19:31</td>\n",
       "    </tr>\n",
       "    <tr>\n",
       "      <th>2</th>\n",
       "      <td>3</td>\n",
       "      <td>002900393337363416473930</td>\n",
       "      <td>1577673586</td>\n",
       "      <td>9.29</td>\n",
       "      <td>11.33</td>\n",
       "      <td>2019/12/30 10:39:46</td>\n",
       "    </tr>\n",
       "    <tr>\n",
       "      <th>3</th>\n",
       "      <td>4</td>\n",
       "      <td>001400263337363417473930</td>\n",
       "      <td>1577674113</td>\n",
       "      <td>8.08</td>\n",
       "      <td>31.10</td>\n",
       "      <td>2019/12/30 10:48:33</td>\n",
       "    </tr>\n",
       "    <tr>\n",
       "      <th>4</th>\n",
       "      <td>5</td>\n",
       "      <td>004C00243337363416473930</td>\n",
       "      <td>1577674272</td>\n",
       "      <td>8.97</td>\n",
       "      <td>25.38</td>\n",
       "      <td>2019/12/30 10:51:12</td>\n",
       "    </tr>\n",
       "  </tbody>\n",
       "</table>\n",
       "</div>"
      ],
      "text/plain": [
       "   idnbiot_backup                  deviceid       dtime  temperature  \\\n",
       "0               1  001800383337363418473930  1577675980        10.95   \n",
       "1               2  002400373337363416473930  1577675971         8.77   \n",
       "2               3  002900393337363416473930  1577673586         9.29   \n",
       "3               4  001400263337363417473930  1577674113         8.08   \n",
       "4               5  004C00243337363416473930  1577674272         8.97   \n",
       "\n",
       "   humidity                 time  \n",
       "0     24.54  2019/12/30 11:19:40  \n",
       "1     26.94  2019/12/30 11:19:31  \n",
       "2     11.33  2019/12/30 10:39:46  \n",
       "3     31.10  2019/12/30 10:48:33  \n",
       "4     25.38  2019/12/30 10:51:12  "
      ]
     },
     "execution_count": 6,
     "metadata": {},
     "output_type": "execute_result"
    }
   ],
   "source": [
    "df.head()"
   ]
  },
  {
   "cell_type": "code",
   "execution_count": 7,
   "metadata": {},
   "outputs": [],
   "source": [
    "df=df[df['dtime']<=1586877565]\n",
    "df=df[df['dtime']>=1579018765]"
   ]
  },
  {
   "cell_type": "code",
   "execution_count": 8,
   "metadata": {},
   "outputs": [
    {
     "data": {
      "text/html": [
       "<div>\n",
       "<style scoped>\n",
       "    .dataframe tbody tr th:only-of-type {\n",
       "        vertical-align: middle;\n",
       "    }\n",
       "\n",
       "    .dataframe tbody tr th {\n",
       "        vertical-align: top;\n",
       "    }\n",
       "\n",
       "    .dataframe thead th {\n",
       "        text-align: right;\n",
       "    }\n",
       "</style>\n",
       "<table border=\"1\" class=\"dataframe\">\n",
       "  <thead>\n",
       "    <tr style=\"text-align: right;\">\n",
       "      <th></th>\n",
       "      <th>idnbiot_backup</th>\n",
       "      <th>deviceid</th>\n",
       "      <th>dtime</th>\n",
       "      <th>temperature</th>\n",
       "      <th>humidity</th>\n",
       "      <th>time</th>\n",
       "    </tr>\n",
       "  </thead>\n",
       "  <tbody>\n",
       "    <tr>\n",
       "      <th>3341</th>\n",
       "      <td>3360</td>\n",
       "      <td>002900393337363416473930</td>\n",
       "      <td>1579020353</td>\n",
       "      <td>7.54</td>\n",
       "      <td>11.65</td>\n",
       "      <td>2020/01/15 00:45:53</td>\n",
       "    </tr>\n",
       "    <tr>\n",
       "      <th>3344</th>\n",
       "      <td>3363</td>\n",
       "      <td>003F004C3337363416473930</td>\n",
       "      <td>1579020420</td>\n",
       "      <td>8.41</td>\n",
       "      <td>24.54</td>\n",
       "      <td>2020/01/15 00:47:00</td>\n",
       "    </tr>\n",
       "    <tr>\n",
       "      <th>3345</th>\n",
       "      <td>3364</td>\n",
       "      <td>002D00623337363416473930</td>\n",
       "      <td>1579020525</td>\n",
       "      <td>8.41</td>\n",
       "      <td>29.88</td>\n",
       "      <td>2020/01/15 00:48:45</td>\n",
       "    </tr>\n",
       "    <tr>\n",
       "      <th>3347</th>\n",
       "      <td>3366</td>\n",
       "      <td>003000593337363416473930</td>\n",
       "      <td>1579019919</td>\n",
       "      <td>7.27</td>\n",
       "      <td>27.45</td>\n",
       "      <td>2020/01/15 00:38:39</td>\n",
       "    </tr>\n",
       "    <tr>\n",
       "      <th>3348</th>\n",
       "      <td>3367</td>\n",
       "      <td>001800383337363418473930</td>\n",
       "      <td>1579021836</td>\n",
       "      <td>10.04</td>\n",
       "      <td>25.70</td>\n",
       "      <td>2020/01/15 01:10:36</td>\n",
       "    </tr>\n",
       "  </tbody>\n",
       "</table>\n",
       "</div>"
      ],
      "text/plain": [
       "      idnbiot_backup                  deviceid       dtime  temperature  \\\n",
       "3341            3360  002900393337363416473930  1579020353         7.54   \n",
       "3344            3363  003F004C3337363416473930  1579020420         8.41   \n",
       "3345            3364  002D00623337363416473930  1579020525         8.41   \n",
       "3347            3366  003000593337363416473930  1579019919         7.27   \n",
       "3348            3367  001800383337363418473930  1579021836        10.04   \n",
       "\n",
       "      humidity                 time  \n",
       "3341     11.65  2020/01/15 00:45:53  \n",
       "3344     24.54  2020/01/15 00:47:00  \n",
       "3345     29.88  2020/01/15 00:48:45  \n",
       "3347     27.45  2020/01/15 00:38:39  \n",
       "3348     25.70  2020/01/15 01:10:36  "
      ]
     },
     "execution_count": 8,
     "metadata": {},
     "output_type": "execute_result"
    }
   ],
   "source": [
    "df.head()"
   ]
  },
  {
   "cell_type": "code",
   "execution_count": 9,
   "metadata": {},
   "outputs": [
    {
     "data": {
      "text/html": [
       "<div>\n",
       "<style scoped>\n",
       "    .dataframe tbody tr th:only-of-type {\n",
       "        vertical-align: middle;\n",
       "    }\n",
       "\n",
       "    .dataframe tbody tr th {\n",
       "        vertical-align: top;\n",
       "    }\n",
       "\n",
       "    .dataframe thead th {\n",
       "        text-align: right;\n",
       "    }\n",
       "</style>\n",
       "<table border=\"1\" class=\"dataframe\">\n",
       "  <thead>\n",
       "    <tr style=\"text-align: right;\">\n",
       "      <th></th>\n",
       "      <th>idnbiot_backup</th>\n",
       "      <th>deviceid</th>\n",
       "      <th>dtime</th>\n",
       "      <th>temperature</th>\n",
       "      <th>humidity</th>\n",
       "      <th>time</th>\n",
       "    </tr>\n",
       "  </thead>\n",
       "  <tbody>\n",
       "  </tbody>\n",
       "</table>\n",
       "</div>"
      ],
      "text/plain": [
       "Empty DataFrame\n",
       "Columns: [idnbiot_backup, deviceid, dtime, temperature, humidity, time]\n",
       "Index: []"
      ]
     },
     "execution_count": 9,
     "metadata": {},
     "output_type": "execute_result"
    }
   ],
   "source": [
    "df[df['humidity']==0]"
   ]
  },
  {
   "cell_type": "code",
   "execution_count": 10,
   "metadata": {},
   "outputs": [
    {
     "data": {
      "text/plain": [
       "'2020/01/24'"
      ]
     },
     "execution_count": 10,
     "metadata": {},
     "output_type": "execute_result"
    }
   ],
   "source": [
    "'2020/01/24 01:47:29'[0:10]"
   ]
  },
  {
   "cell_type": "code",
   "execution_count": 11,
   "metadata": {},
   "outputs": [
    {
     "data": {
      "text/html": [
       "<div>\n",
       "<style scoped>\n",
       "    .dataframe tbody tr th:only-of-type {\n",
       "        vertical-align: middle;\n",
       "    }\n",
       "\n",
       "    .dataframe tbody tr th {\n",
       "        vertical-align: top;\n",
       "    }\n",
       "\n",
       "    .dataframe thead th {\n",
       "        text-align: right;\n",
       "    }\n",
       "</style>\n",
       "<table border=\"1\" class=\"dataframe\">\n",
       "  <thead>\n",
       "    <tr style=\"text-align: right;\">\n",
       "      <th></th>\n",
       "      <th>idnbiot_backup</th>\n",
       "      <th>deviceid</th>\n",
       "      <th>dtime</th>\n",
       "      <th>temperature</th>\n",
       "      <th>humidity</th>\n",
       "      <th>time</th>\n",
       "      <th>day</th>\n",
       "    </tr>\n",
       "  </thead>\n",
       "  <tbody>\n",
       "    <tr>\n",
       "      <th>3341</th>\n",
       "      <td>3360</td>\n",
       "      <td>002900393337363416473930</td>\n",
       "      <td>1579020353</td>\n",
       "      <td>7.54</td>\n",
       "      <td>11.65</td>\n",
       "      <td>2020/01/15 00:45:53</td>\n",
       "      <td>2020/01/15</td>\n",
       "    </tr>\n",
       "    <tr>\n",
       "      <th>3344</th>\n",
       "      <td>3363</td>\n",
       "      <td>003F004C3337363416473930</td>\n",
       "      <td>1579020420</td>\n",
       "      <td>8.41</td>\n",
       "      <td>24.54</td>\n",
       "      <td>2020/01/15 00:47:00</td>\n",
       "      <td>2020/01/15</td>\n",
       "    </tr>\n",
       "    <tr>\n",
       "      <th>3345</th>\n",
       "      <td>3364</td>\n",
       "      <td>002D00623337363416473930</td>\n",
       "      <td>1579020525</td>\n",
       "      <td>8.41</td>\n",
       "      <td>29.88</td>\n",
       "      <td>2020/01/15 00:48:45</td>\n",
       "      <td>2020/01/15</td>\n",
       "    </tr>\n",
       "    <tr>\n",
       "      <th>3347</th>\n",
       "      <td>3366</td>\n",
       "      <td>003000593337363416473930</td>\n",
       "      <td>1579019919</td>\n",
       "      <td>7.27</td>\n",
       "      <td>27.45</td>\n",
       "      <td>2020/01/15 00:38:39</td>\n",
       "      <td>2020/01/15</td>\n",
       "    </tr>\n",
       "    <tr>\n",
       "      <th>3348</th>\n",
       "      <td>3367</td>\n",
       "      <td>001800383337363418473930</td>\n",
       "      <td>1579021836</td>\n",
       "      <td>10.04</td>\n",
       "      <td>25.70</td>\n",
       "      <td>2020/01/15 01:10:36</td>\n",
       "      <td>2020/01/15</td>\n",
       "    </tr>\n",
       "  </tbody>\n",
       "</table>\n",
       "</div>"
      ],
      "text/plain": [
       "      idnbiot_backup                  deviceid       dtime  temperature  \\\n",
       "3341            3360  002900393337363416473930  1579020353         7.54   \n",
       "3344            3363  003F004C3337363416473930  1579020420         8.41   \n",
       "3345            3364  002D00623337363416473930  1579020525         8.41   \n",
       "3347            3366  003000593337363416473930  1579019919         7.27   \n",
       "3348            3367  001800383337363418473930  1579021836        10.04   \n",
       "\n",
       "      humidity                 time         day  \n",
       "3341     11.65  2020/01/15 00:45:53  2020/01/15  \n",
       "3344     24.54  2020/01/15 00:47:00  2020/01/15  \n",
       "3345     29.88  2020/01/15 00:48:45  2020/01/15  \n",
       "3347     27.45  2020/01/15 00:38:39  2020/01/15  \n",
       "3348     25.70  2020/01/15 01:10:36  2020/01/15  "
      ]
     },
     "execution_count": 11,
     "metadata": {},
     "output_type": "execute_result"
    }
   ],
   "source": [
    "df['day']=df.apply(lambda x:x['time'][0:10], axis=1)\n",
    "df.head()\n",
    "#完成了"
   ]
  },
  {
   "cell_type": "code",
   "execution_count": 12,
   "metadata": {},
   "outputs": [],
   "source": [
    "tf=df.groupby('deviceid')"
   ]
  },
  {
   "cell_type": "code",
   "execution_count": 13,
   "metadata": {},
   "outputs": [],
   "source": [
    "tf.mean().to_csv('传感器信息平均温度等.csv')"
   ]
  },
  {
   "cell_type": "code",
   "execution_count": 14,
   "metadata": {},
   "outputs": [],
   "source": [
    "tf=df.groupby('day')"
   ]
  },
  {
   "cell_type": "code",
   "execution_count": 15,
   "metadata": {},
   "outputs": [],
   "source": [
    "tempstd=df.groupby('day').std()['temperature']\n",
    "humstd=df.groupby('day').std()['humidity']\n",
    "temperature=df.groupby('day').mean()['temperature']\n",
    "humidity=df.groupby('day').mean()['humidity']"
   ]
  },
  {
   "cell_type": "code",
   "execution_count": 16,
   "metadata": {},
   "outputs": [],
   "source": [
    "x=df.groupby('day').mean().index"
   ]
  },
  {
   "cell_type": "code",
   "execution_count": 17,
   "metadata": {},
   "outputs": [
    {
     "data": {
      "image/png": "[encoded data removed]",
      "text/plain": [
       "<Figure size 432x288 with 1 Axes>"
      ]
     },
     "metadata": {},
     "output_type": "display_data"
    }
   ],
   "source": [
    "error = np.random.randn(50)    #定义误差列\n",
    "# print(error)\n",
    "y = pd.Series(temperature)    #取序列值，用于绘制正弦曲线\n",
    "# print(y)\n",
    "y.plot(yerr=tempstd, fmt='co--')    #y轴方向绘制误差棒图\n",
    "#plt.errorbar(x=[1, 2, 3, 4], y=[1, 2, 3, 4], yerr=1, fmt='co--')\n",
    "z = pd.Series(humidity)    #取序列值，用于绘制正弦曲线\n",
    "# print(y)\n",
    "z.plot(yerr=humstd)    #y轴方向绘制误差棒图\n",
    "plt.show()"
   ]
  },
  {
   "cell_type": "code",
   "execution_count": 18,
   "metadata": {
    "scrolled": true
   },
   "outputs": [
    {
     "data": {
      "image/png": "[encoded data removed]",
      "text/plain": [
       "<Figure size 936x360 with 2 Axes>"
      ]
     },
     "metadata": {},
     "output_type": "display_data"
    }
   ],
   "source": [
    "# fig = plt.figure()\n",
    "fig =plt.figure(figsize=(13,5)) #图像大小\n",
    "ax = fig.add_subplot(111)\n",
    "# tempstd=df.groupby('day').std()['temperature']\n",
    "# humstd=df.groupby('day').std()['humidity']\n",
    "ax.errorbar(x, y, fmt=\"bo:\", yerr=tempstd, label = 'temperature')\n",
    "ax2 = ax.twinx()\n",
    "ax2.errorbar(x,z,fmt=\"r*--\", yerr=humstd/2, label = 'humidity')\n",
    "fig.legend(loc=1, bbox_to_anchor=(1,1), bbox_transform=ax.transAxes)\n",
    "plt.xticks(x,fontproperties = 'Times New Roman' ,rotation = 90) \n",
    "# grid( linestyle='-', linewidth=2)#color='r',\n",
    "ax.set_xlabel(\"day\")\n",
    "ax.set_ylabel(r\"temperature\")\n",
    "ax2.set_ylabel(r\"humidity\")\n",
    "plt.savefig('error.svg',format='svg')\n",
    "plt.show()"
   ]
  },
  {
   "cell_type": "code",
   "execution_count": 19,
   "metadata": {},
   "outputs": [],
   "source": [
    "#13436"
   ]
  },
  {
   "cell_type": "code",
   "execution_count": 20,
   "metadata": {},
   "outputs": [],
   "source": [
    "file=r'G:\\Onedrive文件\\OneDrive - whu.edu.cn\\自然灾害知识图谱\\apendfile\\5个要素一起.csv'\n",
    "#plt.annotate('应收尽收', xy=(x0, y0), xytext=(x0, y0 + 0.01))  # 添加注释\n",
    "cf=pd.read_csv(file,encoding='GB18030',engine='python')"
   ]
  },
  {
   "cell_type": "code",
   "execution_count": 21,
   "metadata": {},
   "outputs": [
    {
     "name": "stdout",
     "output_type": "stream",
     "text": [
      "(-0.3723953548813661, 0.0002780055285103512)\n",
      "(0.182843388287033, 0.08278343713857897)\n",
      "(0.10270574774622403, 0.33265928603015504)\n",
      "(0.13301765949571545, 0.20876795877804294)\n"
     ]
    }
   ],
   "source": [
    "import scipy\n",
    "import scipy.stats \n",
    "aa=cf['锘縞onfirm'].values\n",
    "bb = cf['temperature'].values\n",
    "print(scipy.stats.pearsonr(aa,bb))\n",
    "\n",
    "aa=cf['recovery'].values\n",
    "bb = cf['temperature'].values\n",
    "pccs = scipy.stats.pearsonr(aa,bb)\n",
    "print(pccs)\n",
    "\n",
    "aa=cf['锘縞onfirm'].values\n",
    "bb = cf['humidity'].values\n",
    "pccs = scipy.stats.pearsonr(aa,bb)\n",
    "print(pccs)\n",
    "\n",
    "aa=cf['recovery'].values\n",
    "bb = cf['humidity'].values\n",
    "pccs = scipy.stats.pearsonr(aa,bb)\n",
    "print(pccs)"
   ]
  },
  {
   "cell_type": "code",
   "execution_count": 22,
   "metadata": {},
   "outputs": [
    {
     "name": "stdout",
     "output_type": "stream",
     "text": [
      "[[ 1.         -0.37239535]\n",
      " [-0.37239535  1.        ]]\n",
      "[[1.         0.18284339]\n",
      " [0.18284339 1.        ]]\n",
      "[[1.         0.10270575]\n",
      " [0.10270575 1.        ]]\n",
      "[[1.         0.13301766]\n",
      " [0.13301766 1.        ]]\n"
     ]
    }
   ],
   "source": [
    "import numpy as np\n",
    "import pandas as pd\n",
    "#cf['锘縞onfirm']#recovery\tdeath\ttemperature\thumidity\n",
    "aa=cf['锘縞onfirm'].values\n",
    "bb = cf['temperature'].values\n",
    "pccs = np.corrcoef(aa,bb)\n",
    "print(pccs)\n",
    "\n",
    "aa=cf['recovery'].values\n",
    "bb = cf['temperature'].values\n",
    "pccs = np.corrcoef(aa,bb)\n",
    "print(pccs)\n",
    "\n",
    "aa=cf['锘縞onfirm'].values\n",
    "bb = cf['humidity'].values\n",
    "pccs = np.corrcoef(aa,bb)\n",
    "print(pccs)\n",
    "\n",
    "aa=cf['recovery'].values\n",
    "bb = cf['humidity'].values\n",
    "pccs = np.corrcoef(aa,bb)\n",
    "print(pccs)"
   ]
  },
  {
   "cell_type": "code",
   "execution_count": 29,
   "metadata": {},
   "outputs": [
    {
     "data": {
      "text/html": [
       "<div>\n",
       "<style scoped>\n",
       "    .dataframe tbody tr th:only-of-type {\n",
       "        vertical-align: middle;\n",
       "    }\n",
       "\n",
       "    .dataframe tbody tr th {\n",
       "        vertical-align: top;\n",
       "    }\n",
       "\n",
       "    .dataframe thead th {\n",
       "        text-align: right;\n",
       "    }\n",
       "</style>\n",
       "<table border=\"1\" class=\"dataframe\">\n",
       "  <thead>\n",
       "    <tr style=\"text-align: right;\">\n",
       "      <th></th>\n",
       "      <th>锘縞onfirm</th>\n",
       "      <th>City_CH</th>\n",
       "      <th>recovery</th>\n",
       "      <th>death</th>\n",
       "      <th>temperature</th>\n",
       "      <th>humidity</th>\n",
       "    </tr>\n",
       "  </thead>\n",
       "  <tbody>\n",
       "    <tr>\n",
       "      <th>0</th>\n",
       "      <td>0</td>\n",
       "      <td>N_C_0115</td>\n",
       "      <td>4</td>\n",
       "      <td>0</td>\n",
       "      <td>6.855728</td>\n",
       "      <td>30.918779</td>\n",
       "    </tr>\n",
       "    <tr>\n",
       "      <th>1</th>\n",
       "      <td>1</td>\n",
       "      <td>N_C_0116</td>\n",
       "      <td>5</td>\n",
       "      <td>1</td>\n",
       "      <td>5.876204</td>\n",
       "      <td>30.068380</td>\n",
       "    </tr>\n",
       "    <tr>\n",
       "      <th>2</th>\n",
       "      <td>17</td>\n",
       "      <td>N_C_0117</td>\n",
       "      <td>1</td>\n",
       "      <td>0</td>\n",
       "      <td>6.070231</td>\n",
       "      <td>26.683056</td>\n",
       "    </tr>\n",
       "    <tr>\n",
       "      <th>3</th>\n",
       "      <td>59</td>\n",
       "      <td>N_C_0118</td>\n",
       "      <td>0</td>\n",
       "      <td>3</td>\n",
       "      <td>6.325899</td>\n",
       "      <td>25.602488</td>\n",
       "    </tr>\n",
       "    <tr>\n",
       "      <th>4</th>\n",
       "      <td>77</td>\n",
       "      <td>N_C_0119</td>\n",
       "      <td>0</td>\n",
       "      <td>3</td>\n",
       "      <td>7.433349</td>\n",
       "      <td>25.178716</td>\n",
       "    </tr>\n",
       "  </tbody>\n",
       "</table>\n",
       "</div>"
      ],
      "text/plain": [
       "   锘縞onfirm   City_CH  recovery  death  temperature   humidity\n",
       "0         0  N_C_0115         4      0     6.855728  30.918779\n",
       "1         1  N_C_0116         5      1     5.876204  30.068380\n",
       "2        17  N_C_0117         1      0     6.070231  26.683056\n",
       "3        59  N_C_0118         0      3     6.325899  25.602488\n",
       "4        77  N_C_0119         0      3     7.433349  25.178716"
      ]
     },
     "execution_count": 29,
     "metadata": {},
     "output_type": "execute_result"
    }
   ],
   "source": [
    "cf.head()"
   ]
  },
  {
   "cell_type": "code",
   "execution_count": 31,
   "metadata": {},
   "outputs": [
    {
     "data": {
      "text/plain": [
       "(91, 6)"
      ]
     },
     "execution_count": 31,
     "metadata": {},
     "output_type": "execute_result"
    }
   ],
   "source": [
    "cf.shape"
   ]
  },
  {
   "cell_type": "code",
   "execution_count": 38,
   "metadata": {},
   "outputs": [],
   "source": [
    "anovadf=pd.DataFrame({'confirm':cf['锘縞onfirm'].values,'humidity':cf['humidity'].values,'temperature':cf['temperature'].values})"
   ]
  },
  {
   "cell_type": "code",
   "execution_count": 39,
   "metadata": {},
   "outputs": [
    {
     "data": {
      "text/html": [
       "<div>\n",
       "<style scoped>\n",
       "    .dataframe tbody tr th:only-of-type {\n",
       "        vertical-align: middle;\n",
       "    }\n",
       "\n",
       "    .dataframe tbody tr th {\n",
       "        vertical-align: top;\n",
       "    }\n",
       "\n",
       "    .dataframe thead th {\n",
       "        text-align: right;\n",
       "    }\n",
       "</style>\n",
       "<table border=\"1\" class=\"dataframe\">\n",
       "  <thead>\n",
       "    <tr style=\"text-align: right;\">\n",
       "      <th></th>\n",
       "      <th>confirm</th>\n",
       "      <th>humidity</th>\n",
       "      <th>temperature</th>\n",
       "    </tr>\n",
       "  </thead>\n",
       "  <tbody>\n",
       "    <tr>\n",
       "      <th>0</th>\n",
       "      <td>0</td>\n",
       "      <td>30.918779</td>\n",
       "      <td>6.855728</td>\n",
       "    </tr>\n",
       "    <tr>\n",
       "      <th>1</th>\n",
       "      <td>1</td>\n",
       "      <td>30.068380</td>\n",
       "      <td>5.876204</td>\n",
       "    </tr>\n",
       "    <tr>\n",
       "      <th>2</th>\n",
       "      <td>17</td>\n",
       "      <td>26.683056</td>\n",
       "      <td>6.070231</td>\n",
       "    </tr>\n",
       "    <tr>\n",
       "      <th>3</th>\n",
       "      <td>59</td>\n",
       "      <td>25.602488</td>\n",
       "      <td>6.325899</td>\n",
       "    </tr>\n",
       "    <tr>\n",
       "      <th>4</th>\n",
       "      <td>77</td>\n",
       "      <td>25.178716</td>\n",
       "      <td>7.433349</td>\n",
       "    </tr>\n",
       "  </tbody>\n",
       "</table>\n",
       "</div>"
      ],
      "text/plain": [
       "   confirm   humidity  temperature\n",
       "0        0  30.918779     6.855728\n",
       "1        1  30.068380     5.876204\n",
       "2       17  26.683056     6.070231\n",
       "3       59  25.602488     6.325899\n",
       "4       77  25.178716     7.433349"
      ]
     },
     "execution_count": 39,
     "metadata": {},
     "output_type": "execute_result"
    }
   ],
   "source": [
    "anovadf.head()"
   ]
  },
  {
   "cell_type": "code",
   "execution_count": 58,
   "metadata": {},
   "outputs": [
    {
     "name": "stdout",
     "output_type": "stream",
     "text": [
      "None\n",
      "None\n"
     ]
    },
    {
     "data": {
      "text/plain": [
       "91"
      ]
     },
     "execution_count": 58,
     "metadata": {},
     "output_type": "execute_result"
    }
   ],
   "source": [
    "a=anovadf['humidity'].values.tolist()\n",
    "print(a.sort(reverse = False))\n",
    "len(a)\n",
    "b=anovadf['temperature'].values.tolist()\n",
    "print(b.sort(reverse = False))\n",
    "len(b)"
   ]
  },
  {
   "cell_type": "code",
   "execution_count": 60,
   "metadata": {},
   "outputs": [],
   "source": [
    "def relabel(num,typec):\n",
    "    if typec=='b':\n",
    "        if num in b[0:15]:\n",
    "            return 'tem1'\n",
    "        if num in b[15:30]:\n",
    "            return 'tem2'\n",
    "        if num in b[30:45]:\n",
    "            return 'tem3'\n",
    "        if num in b[45:60]:\n",
    "            return 'tem4'\n",
    "        if num in b[60:75]:\n",
    "            return 'tem5'\n",
    "        if num in b[75:]:\n",
    "            return 'tem6'\n",
    "    else:\n",
    "        if num in a[0:15]:\n",
    "            return 'hum1'\n",
    "        if num in a[15:30]:\n",
    "            return 'hum2'\n",
    "        if num in a[30:45]:\n",
    "            return 'hum3'\n",
    "        if num in a[45:60]:\n",
    "            return 'hum4'\n",
    "        if num in a[60:75]:\n",
    "            return 'hum5'\n",
    "        if num in a[75:]:\n",
    "            return 'hum6'"
   ]
  },
  {
   "cell_type": "code",
   "execution_count": 63,
   "metadata": {},
   "outputs": [],
   "source": [
    "anovadf['humidity1']=anovadf.apply(lambda x: relabel(x['humidity'],'a'), axis=1)\n",
    "anovadf['temperature1']=anovadf.apply(lambda x: relabel(x['temperature'],'b'), axis=1)"
   ]
  },
  {
   "cell_type": "code",
   "execution_count": 65,
   "metadata": {},
   "outputs": [],
   "source": [
    "anovadf.to_csv('spss.csv')"
   ]
  },
  {
   "cell_type": "code",
   "execution_count": 66,
   "metadata": {},
   "outputs": [
    {
     "data": {
      "text/html": [
       "<div>\n",
       "<style scoped>\n",
       "    .dataframe tbody tr th:only-of-type {\n",
       "        vertical-align: middle;\n",
       "    }\n",
       "\n",
       "    .dataframe tbody tr th {\n",
       "        vertical-align: top;\n",
       "    }\n",
       "\n",
       "    .dataframe thead th {\n",
       "        text-align: right;\n",
       "    }\n",
       "</style>\n",
       "<table border=\"1\" class=\"dataframe\">\n",
       "  <thead>\n",
       "    <tr style=\"text-align: right;\">\n",
       "      <th></th>\n",
       "      <th>df</th>\n",
       "      <th>sum_sq</th>\n",
       "      <th>mean_sq</th>\n",
       "      <th>F</th>\n",
       "      <th>PR(&gt;F)</th>\n",
       "    </tr>\n",
       "  </thead>\n",
       "  <tbody>\n",
       "    <tr>\n",
       "      <th>C(humidity1)</th>\n",
       "      <td>5.0</td>\n",
       "      <td>6.534930e+06</td>\n",
       "      <td>1.306986e+06</td>\n",
       "      <td>4.522715</td>\n",
       "      <td>0.001382</td>\n",
       "    </tr>\n",
       "    <tr>\n",
       "      <th>C(temperature1)</th>\n",
       "      <td>5.0</td>\n",
       "      <td>1.304637e+07</td>\n",
       "      <td>2.609275e+06</td>\n",
       "      <td>9.029175</td>\n",
       "      <td>0.000002</td>\n",
       "    </tr>\n",
       "    <tr>\n",
       "      <th>C(humidity1):C(temperature1)</th>\n",
       "      <td>25.0</td>\n",
       "      <td>1.030236e+07</td>\n",
       "      <td>4.120942e+05</td>\n",
       "      <td>1.426017</td>\n",
       "      <td>0.129567</td>\n",
       "    </tr>\n",
       "    <tr>\n",
       "      <th>Residual</th>\n",
       "      <td>63.0</td>\n",
       "      <td>1.820590e+07</td>\n",
       "      <td>2.889826e+05</td>\n",
       "      <td>NaN</td>\n",
       "      <td>NaN</td>\n",
       "    </tr>\n",
       "  </tbody>\n",
       "</table>\n",
       "</div>"
      ],
      "text/plain": [
       "                                df        sum_sq       mean_sq         F  \\\n",
       "C(humidity1)                   5.0  6.534930e+06  1.306986e+06  4.522715   \n",
       "C(temperature1)                5.0  1.304637e+07  2.609275e+06  9.029175   \n",
       "C(humidity1):C(temperature1)  25.0  1.030236e+07  4.120942e+05  1.426017   \n",
       "Residual                      63.0  1.820590e+07  2.889826e+05       NaN   \n",
       "\n",
       "                                PR(>F)  \n",
       "C(humidity1)                  0.001382  \n",
       "C(temperature1)               0.000002  \n",
       "C(humidity1):C(temperature1)  0.129567  \n",
       "Residual                           NaN  "
      ]
     },
     "execution_count": 66,
     "metadata": {},
     "output_type": "execute_result"
    }
   ],
   "source": [
    "#recory confim humidity temperature\n",
    "from statsmodels.formula.api import ols\n",
    "from statsmodels.stats.anova import anova_lm\n",
    "\n",
    "\n",
    "model = ols('confirm~C(humidity1) + C(temperature1)+C(humidity1):C(temperature1)', anovadf).fit()\n",
    "anova_lm(model)"
   ]
  },
  {
   "cell_type": "code",
   "execution_count": 23,
   "metadata": {},
   "outputs": [
    {
     "data": {
      "image/png": "[encoded data removed]",
      "text/plain": [
       "<Figure size 936x360 with 2 Axes>"
      ]
     },
     "metadata": {},
     "output_type": "display_data"
    }
   ],
   "source": [
    "# fig = plt.figure()\n",
    "#cf['锘縞onfirm'].values.tolist()\n",
    "fig =plt.figure(figsize=(13,5)) #图像大小\n",
    "ax = fig.add_subplot(111)\n",
    "# tempstd=df.groupby('day').std()['temperature']\n",
    "# humstd=df.groupby('day').std()['humidity']\n",
    "# plt.xticks(x,fontproperties = 'Times New Roman' ,rotation = 90) \n",
    "ax.plot(x, pd.Series(cf['锘縞onfirm'].values.tolist()),\"g+-.\",label = 'confirm')\n",
    "#ax.set_xticklabels(ax.get_xticklabels(), rotation=40, ha=\"right\")\n",
    "\n",
    "ax.annotate('13436', xy=(x[28], 3000), xytext=(x[28], 3000 +30))  # 添加注释\n",
    "\n",
    "# ax.set_xticklabels(x[::7],rotation=40)    #显示日期  否则就是显示整数 以三天为一个间隔\n",
    "\n",
    "ax2 = ax.twinx()\n",
    "ax2.plot(x,pd.Series(cf['recovery'].values.tolist()),\"md-\",label = 'recovery')\n",
    "\n",
    "fig.legend(loc=1, bbox_to_anchor=(1,1), bbox_transform=ax.transAxes)\n",
    "plt.xticks(x,fontproperties = 'Times New Roman' ,rotation = 90) \n",
    "# grid( linestyle='-', linewidth=2)#color='r',\n",
    "ax.set_xlabel(\"day\")\n",
    "ax.set_ylabel(r\"confirm\")\n",
    "ax2.set_ylabel(r\"recovery\")\n",
    "\n",
    "plt.savefig('recover.svg',format='svg')\n",
    "plt.show()"
   ]
  },
  {
   "cell_type": "code",
   "execution_count": 24,
   "metadata": {},
   "outputs": [],
   "source": [
    "tf.mean().to_csv('研究期间的传感器信息.csv')"
   ]
  },
  {
   "cell_type": "code",
   "execution_count": 25,
   "metadata": {},
   "outputs": [],
   "source": [
    "sensor=pd.read_csv('研究期间的传感器信息.csv',encoding='GB18030',engine='python')"
   ]
  },
  {
   "cell_type": "code",
   "execution_count": 26,
   "metadata": {},
   "outputs": [],
   "source": [
    "import matplotlib.pyplot as plt"
   ]
  },
  {
   "cell_type": "code",
   "execution_count": 27,
   "metadata": {},
   "outputs": [
    {
     "data": {
      "text/plain": [
       "<matplotlib.axes._subplots.AxesSubplot at 0x21d818e8f98>"
      ]
     },
     "execution_count": 27,
     "metadata": {},
     "output_type": "execute_result"
    },
    {
     "data": {
      "image/png": "[encoded data removed]",
      "text/plain": [
       "<Figure size 432x288 with 1 Axes>"
      ]
     },
     "metadata": {},
     "output_type": "display_data"
    }
   ],
   "source": [
    "sensor['temperature'].plot()"
   ]
  },
  {
   "cell_type": "code",
   "execution_count": 28,
   "metadata": {},
   "outputs": [
    {
     "data": {
      "text/plain": [
       "<matplotlib.axes._subplots.AxesSubplot at 0x21d818a1710>"
      ]
     },
     "execution_count": 28,
     "metadata": {},
     "output_type": "execute_result"
    },
    {
     "data": {
      "image/png": "[encoded data removed]",
      "text/plain": [
       "<Figure size 432x288 with 1 Axes>"
      ]
     },
     "metadata": {},
     "output_type": "display_data"
    }
   ],
   "source": [
    "sensor['humidity'].plot()"
   ]
  },
  {
   "cell_type": "code",
   "execution_count": null,
   "metadata": {},
   "outputs": [],
   "source": []
  }
 ],
 "metadata": {
  "kernelspec": {
   "display_name": "Python 3",
   "language": "python",
   "name": "python3"
  },
  "language_info": {
   "codemirror_mode": {
    "name": "ipython",
    "version": 3
   },
   "file_extension": ".py",
   "mimetype": "text/x-python",
   "name": "python",
   "nbconvert_exporter": "python",
   "pygments_lexer": "ipython3",
   "version": "3.8.3"
  },
  "toc": {
   "base_numbering": 1,
   "nav_menu": {},
   "number_sections": true,
   "sideBar": true,
   "skip_h1_title": false,
   "title_cell": "Table of Contents",
   "title_sidebar": "Contents",
   "toc_cell": false,
   "toc_position": {},
   "toc_section_display": true,
   "toc_window_display": false
  }
 },
 "nbformat": 4,
 "nbformat_minor": 2
}
